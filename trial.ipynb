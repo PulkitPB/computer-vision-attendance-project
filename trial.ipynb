{
 "cells": [
  {
   "cell_type": "code",
   "execution_count": 1,
   "metadata": {},
   "outputs": [],
   "source": [
    "#import libraries\n",
    "import cv2\n",
    "import dlib\n",
    "import face_recognition\n",
    "import numpy as np"
   ]
  },
  {
   "cell_type": "code",
   "execution_count": 5,
   "metadata": {},
   "outputs": [
    {
     "data": {
      "text/plain": [
       "\"cv2.imshow('copy', copy)\\n#cv2.imshow('elon',imgelon)\\ncv2.waitKey(0)\""
      ]
     },
     "execution_count": 5,
     "metadata": {},
     "output_type": "execute_result"
    }
   ],
   "source": [
    "imgelon_bgr = face_recognition.load_image_file('img/download.jpg')\n",
    "imgelon_rgb = cv2.cvtColor(imgelon_bgr,cv2.COLOR_BGR2RGB)\n",
    "'''cv2.imshow('bgr', imgelon_bgr)\n",
    "cv2.imshow('rgb', imgelon_rgb)\n",
    "cv2.waitKey(0)'''\n",
    "imgelon =face_recognition.load_image_file('img/download.jpg')\n",
    "imgelon = cv2.cvtColor(imgelon,cv2.COLOR_BGR2RGB)\n",
    "#----------Finding face Location for drawing bounding boxes-------\n",
    "face = face_recognition.face_locations(imgelon_rgb)[0]\n",
    "copy = imgelon.copy()\n",
    "#-------------------Drawing the Rectangle-------------------------\n",
    "cv2.rectangle(copy, (face[3], face[0]),(face[1], face[2]), (255,0,255), 2)\n",
    "'''cv2.imshow('copy', copy)\n",
    "#cv2.imshow('elon',imgelon)\n",
    "cv2.waitKey(0)'''"
   ]
  },
  {
   "cell_type": "code",
   "execution_count": 11,
   "metadata": {},
   "outputs": [
    {
     "name": "stdout",
     "output_type": "stream",
     "text": [
      "[-0.05524739  0.10863397  0.09938646 -0.00631543 -0.14054304  0.02754038\n",
      " -0.02922845 -0.20764081  0.17139237 -0.06493174  0.25009504 -0.08778013\n",
      " -0.23284736 -0.00520001 -0.0132716   0.0968104  -0.15323107 -0.16026814\n",
      "  0.00455078 -0.08829426  0.11296149  0.05384078  0.02754317 -0.0042618\n",
      " -0.11611499 -0.30564401 -0.1020501  -0.11298142  0.16774273 -0.07907476\n",
      "  0.03152029  0.04031563 -0.17754102 -0.06999587  0.03935316  0.02325508\n",
      " -0.08785901 -0.08586247  0.22380698 -0.03913379 -0.18770574 -0.05584536\n",
      "  0.014893    0.2082105   0.11359093  0.03232784  0.02140806 -0.11924057\n",
      "  0.10540839 -0.24655101  0.08902843  0.17472526  0.0811909   0.0345442\n",
      "  0.13218927 -0.17846668  0.00859887  0.160236   -0.14693345  0.14026625\n",
      "  0.1166383  -0.06677437  0.01033651 -0.05410888  0.15107004  0.03203738\n",
      " -0.011065   -0.15874778  0.16275851 -0.07107671 -0.11373033  0.16825576\n",
      " -0.13297552 -0.16703074 -0.2823748  -0.03906797  0.52134115  0.04483987\n",
      " -0.18230829  0.01402903 -0.01912917  0.00851307  0.16247688  0.03689672\n",
      " -0.01534986 -0.08421855 -0.14927796 -0.02286925  0.19952478 -0.07200728\n",
      " -0.06468794  0.21050136 -0.0273531   0.0732889   0.04352897  0.07599754\n",
      " -0.0683941  -0.00073912 -0.11585499 -0.10024396  0.04149904  0.00436592\n",
      " -0.04202067  0.15885593 -0.1844538   0.14001137  0.00728224  0.01003043\n",
      " -0.01269429 -0.06216556 -0.06508189  0.02545427  0.19238091 -0.29403824\n",
      "  0.1531788   0.16459118 -0.02946267  0.10845091  0.00209925  0.01258009\n",
      "  0.00154625 -0.07070395 -0.24167688 -0.07574409  0.02688278 -0.04144153\n",
      " -0.08434689  0.01723041]\n",
      "[True]\n"
     ]
    },
    {
     "ename": "",
     "evalue": "",
     "output_type": "error",
     "traceback": [
      "\u001b[1;31mThe Kernel crashed while executing code in the the current cell or a previous cell. Please review the code in the cell(s) to identify a possible cause of the failure. Click <a href='https://aka.ms/vscodeJupyterKernelCrash'>here</a> for more info. View Jupyter <a href='command:jupyter.viewOutput'>log</a> for further details."
     ]
    }
   ],
   "source": [
    "train_elon_encodings = face_recognition.face_encodings(imgelon)[0]\n",
    "#print(train_elon_encodings)\n",
    "# lets test an image\n",
    "imgelon1 =face_recognition.load_image_file('img/test.jpg')\n",
    "imgelon1 = cv2.cvtColor(imgelon,cv2.COLOR_BGR2RGB)\n",
    "'''cv2.imshow('test',imgelon1)\n",
    "cv2.waitKey(0)'''\n",
    "test_encode = face_recognition.face_encodings(imgelon1)[0]\n",
    "print(test_encode)\n",
    "print(face_recognition.compare_faces([train_elon_encodings],test_encode))"
   ]
  }
 ],
 "metadata": {
  "kernelspec": {
   "display_name": "Python 3",
   "language": "python",
   "name": "python3"
  },
  "language_info": {
   "codemirror_mode": {
    "name": "ipython",
    "version": 3
   },
   "file_extension": ".py",
   "mimetype": "text/x-python",
   "name": "python",
   "nbconvert_exporter": "python",
   "pygments_lexer": "ipython3",
   "version": "3.10.5"
  },
  "orig_nbformat": 4
 },
 "nbformat": 4,
 "nbformat_minor": 2
}
